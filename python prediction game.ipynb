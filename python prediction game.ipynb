{
 "cells": [
  {
   "cell_type": "code",
   "execution_count": 24,
   "id": "5b40b406",
   "metadata": {},
   "outputs": [],
   "source": [
    "import random"
   ]
  },
  {
   "cell_type": "code",
   "execution_count": 25,
   "id": "dad8c972",
   "metadata": {},
   "outputs": [
    {
     "data": {
      "text/plain": [
       "3"
      ]
     },
     "execution_count": 25,
     "metadata": {},
     "output_type": "execute_result"
    }
   ],
   "source": [
    "random.randint(1,10)"
   ]
  },
  {
   "cell_type": "code",
   "execution_count": 29,
   "id": "8e5f5960",
   "metadata": {},
   "outputs": [
    {
     "name": "stdout",
     "output_type": "stream",
     "text": [
      "entre predictive number1\n",
      "guess highier\n",
      "entre number4\n",
      "guess lower\n",
      "entre number2\n",
      "guess highier\n",
      "entre number3\n",
      "winner\n",
      "4 attempt\n"
     ]
    }
   ],
   "source": [
    "winner = random.randint(1,10)\n",
    "\n",
    "guess = int(input ('entre predictive number'))\n",
    "counter = 1\n",
    "\n",
    "while guess != winner : \n",
    "    if guess < winner :\n",
    "        print('guess highier')\n",
    "    else : \n",
    "        print ('guess lower')\n",
    "    \n",
    "    guess = int(input ('entre number'))\n",
    "    counter +=1\n",
    "    \n",
    "print ('winner')\n",
    "print (counter,'attempt')\n",
    "\n"
   ]
  },
  {
   "cell_type": "code",
   "execution_count": null,
   "id": "b242c789",
   "metadata": {},
   "outputs": [],
   "source": []
  }
 ],
 "metadata": {
  "kernelspec": {
   "display_name": "Python 3",
   "language": "python",
   "name": "python3"
  },
  "language_info": {
   "codemirror_mode": {
    "name": "ipython",
    "version": 3
   },
   "file_extension": ".py",
   "mimetype": "text/x-python",
   "name": "python",
   "nbconvert_exporter": "python",
   "pygments_lexer": "ipython3",
   "version": "3.8.8"
  }
 },
 "nbformat": 4,
 "nbformat_minor": 5
}
